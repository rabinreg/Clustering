{
 "cells": [
  {
   "cell_type": "markdown",
   "id": "75a5dcea",
   "metadata": {},
   "source": [
    "# A PROJECT ON GOOGLE TRAVEL REVIEWER SEGMENTATION USING KMEANS CLUSTERING\n",
    "## data file : google_reviews.csv\n",
    "\n",
    "                                                                                                      Rabin Regmi\n",
    "                                                                                                           \n",
    "                                                                                                           "
   ]
  },
  {
   "cell_type": "markdown",
   "id": "d9917700",
   "metadata": {},
   "source": [
    "### Step 1: importing libraries and dataset, exploring the dataset"
   ]
  },
  {
   "cell_type": "code",
   "execution_count": 2,
   "id": "098cd59d",
   "metadata": {},
   "outputs": [],
   "source": [
    "from pyspark.sql import SparkSession"
   ]
  },
  {
   "cell_type": "code",
   "execution_count": 3,
   "id": "0fe15290",
   "metadata": {},
   "outputs": [],
   "source": [
    "spark = SparkSession.builder.appName('Reviews').getOrCreate()"
   ]
  },
  {
   "cell_type": "code",
   "execution_count": 4,
   "id": "ecfafae1",
   "metadata": {},
   "outputs": [],
   "source": [
    "data = spark.read.csv('google_reviews.csv', inferSchema=True, header=True)"
   ]
  },
  {
   "cell_type": "code",
   "execution_count": 5,
   "id": "01fa4bbc",
   "metadata": {},
   "outputs": [
    {
     "name": "stdout",
     "output_type": "stream",
     "text": [
      "root\n",
      " |-- User: string (nullable = true)\n",
      " |-- Category 1: double (nullable = true)\n",
      " |-- Category 2: double (nullable = true)\n",
      " |-- Category 3: double (nullable = true)\n",
      " |-- Category 4: double (nullable = true)\n",
      " |-- Category 5: double (nullable = true)\n",
      " |-- Category 6: double (nullable = true)\n",
      " |-- Category 7: double (nullable = true)\n",
      " |-- Category 8: double (nullable = true)\n",
      " |-- Category 9: double (nullable = true)\n",
      " |-- Category 10: double (nullable = true)\n",
      " |-- Category 11: string (nullable = true)\n",
      " |-- Category 12: double (nullable = true)\n",
      " |-- Category 13: double (nullable = true)\n",
      " |-- Category 14: double (nullable = true)\n",
      " |-- Category 15: double (nullable = true)\n",
      " |-- Category 16: double (nullable = true)\n",
      " |-- Category 17: double (nullable = true)\n",
      " |-- Category 18: double (nullable = true)\n",
      " |-- Category 19: double (nullable = true)\n",
      " |-- Category 20: double (nullable = true)\n",
      " |-- Category 21: double (nullable = true)\n",
      " |-- Category 22: double (nullable = true)\n",
      " |-- Category 23: double (nullable = true)\n",
      " |-- Category 24: double (nullable = true)\n",
      " |-- _c25: double (nullable = true)\n",
      "\n"
     ]
    }
   ],
   "source": [
    "data.printSchema()"
   ]
  },
  {
   "cell_type": "code",
   "execution_count": 6,
   "id": "a34dbf70",
   "metadata": {},
   "outputs": [
    {
     "name": "stderr",
     "output_type": "stream",
     "text": [
      "23/05/04 15:07:28 WARN package: Truncated the string representation of a plan since it was too large. This behavior can be adjusted by setting 'spark.sql.debug.maxToStringFields'.\n"
     ]
    },
    {
     "name": "stdout",
     "output_type": "stream",
     "text": [
      "+------+----------+----------+----------+----------+----------+----------+----------+----------+----------+-----------+-----------+-----------+-----------+-----------+-----------+-----------+-----------+-----------+-----------+-----------+-----------+-----------+-----------+-----------+----+\n",
      "|  User|Category 1|Category 2|Category 3|Category 4|Category 5|Category 6|Category 7|Category 8|Category 9|Category 10|Category 11|Category 12|Category 13|Category 14|Category 15|Category 16|Category 17|Category 18|Category 19|Category 20|Category 21|Category 22|Category 23|Category 24|_c25|\n",
      "+------+----------+----------+----------+----------+----------+----------+----------+----------+----------+-----------+-----------+-----------+-----------+-----------+-----------+-----------+-----------+-----------+-----------+-----------+-----------+-----------+-----------+-----------+----+\n",
      "|User 1|       0.0|       0.0|      3.63|      3.65|       5.0|      2.92|       5.0|      2.35|      2.33|       2.64|        1.7|       1.69|        1.7|       1.72|       1.74|       0.59|        0.5|        0.0|        0.5|        0.0|        0.0|        0.0|        0.0|        0.0|null|\n",
      "|User 2|       0.0|       0.0|      3.63|      3.65|       5.0|      2.92|       5.0|      2.64|      2.33|       2.65|        1.7|       1.69|        1.7|       1.72|       1.74|       0.59|        0.5|        0.0|        0.5|        0.0|        0.0|        0.0|        0.0|        0.0|null|\n",
      "|User 3|       0.0|       0.0|      3.63|      3.63|       5.0|      2.92|       5.0|      2.64|      2.33|       2.64|        1.7|       1.69|        1.7|       1.72|       1.74|       0.59|        0.5|        0.0|        0.5|        0.0|        0.0|        0.0|        0.0|        0.0|null|\n",
      "|User 4|       0.0|       0.5|      3.63|      3.63|       5.0|      2.92|       5.0|      2.35|      2.33|       2.64|       1.73|       1.69|        1.7|       1.72|       1.74|       0.59|        0.5|        0.0|        0.5|        0.0|        0.0|        0.0|        0.0|        0.0|null|\n",
      "|User 5|       0.0|       0.0|      3.63|      3.63|       5.0|      2.92|       5.0|      2.64|      2.33|       2.64|        1.7|       1.69|        1.7|       1.72|       1.74|       0.59|        0.5|        0.0|        0.5|        0.0|        0.0|        0.0|        0.0|        0.0|null|\n",
      "+------+----------+----------+----------+----------+----------+----------+----------+----------+----------+-----------+-----------+-----------+-----------+-----------+-----------+-----------+-----------+-----------+-----------+-----------+-----------+-----------+-----------+-----------+----+\n",
      "only showing top 5 rows\n",
      "\n"
     ]
    }
   ],
   "source": [
    "data.show(5)"
   ]
  },
  {
   "cell_type": "code",
   "execution_count": 7,
   "id": "f23ee556",
   "metadata": {
    "scrolled": false
   },
   "outputs": [
    {
     "name": "stdout",
     "output_type": "stream",
     "text": [
      "-RECORD 0-------------------------\n",
      " summary     | count              \n",
      " User        | 5456               \n",
      " Category 1  | 5456               \n",
      " Category 2  | 5456               \n",
      " Category 3  | 5456               \n",
      " Category 4  | 5456               \n",
      " Category 5  | 5456               \n",
      " Category 6  | 5456               \n",
      " Category 7  | 5456               \n",
      " Category 8  | 5456               \n",
      " Category 9  | 5456               \n",
      " Category 10 | 5456               \n",
      " Category 11 | 5456               \n",
      " Category 12 | 5455               \n",
      " Category 13 | 5456               \n",
      " Category 14 | 5456               \n",
      " Category 15 | 5456               \n",
      " Category 16 | 5456               \n",
      " Category 17 | 5456               \n",
      " Category 18 | 5456               \n",
      " Category 19 | 5456               \n",
      " Category 20 | 5456               \n",
      " Category 21 | 5456               \n",
      " Category 22 | 5456               \n",
      " Category 23 | 5456               \n",
      " Category 24 | 5455               \n",
      " _c25        | 2                  \n",
      "-RECORD 1-------------------------\n",
      " summary     | mean               \n",
      " User        | null               \n",
      " Category 1  | 1.4557203079178844 \n",
      " Category 2  | 2.319706744868035  \n",
      " Category 3  | 2.4893310117302017 \n",
      " Category 4  | 2.796885997067434  \n",
      " Category 5  | 2.9589406158357874 \n",
      " Category 6  | 2.8934897360703777 \n",
      " Category 7  | 3.3513947947214002 \n",
      " Category 8  | 2.5407954545454605 \n",
      " Category 9  | 3.1260190615835812 \n",
      " Category 10 | 2.8327291055718593 \n",
      " Category 11 | 2.550071494042163  \n",
      " Category 12 | 2.078339138405127  \n",
      " Category 13 | 2.1255113636363636 \n",
      " Category 14 | 2.1908614369501564 \n",
      " Category 15 | 2.206572580645183  \n",
      " Category 16 | 1.192800586510276  \n",
      " Category 17 | 0.9492027126099812 \n",
      " Category 18 | 0.8224138563049909 \n",
      " Category 19 | 0.969811217008803  \n",
      " Category 20 | 1.00007148093842   \n",
      " Category 21 | 0.9658376099706815 \n",
      " Category 22 | 1.7505370234604145 \n",
      " Category 23 | 1.5314534457477984 \n",
      " Category 24 | 1.5607552703941414 \n",
      " _c25        | 1.81               \n",
      "-RECORD 2-------------------------\n",
      " summary     | stddev             \n",
      " User        | null               \n",
      " Category 1  | 0.8276044709006762 \n",
      " Category 2  | 1.4214376045304273 \n",
      " Category 3  | 1.2478154592661745 \n",
      " Category 4  | 1.3091585722844676 \n",
      " Category 5  | 1.3390564606177713 \n",
      " Category 6  | 1.2824003870081182 \n",
      " Category 7  | 1.4134923295329291 \n",
      " Category 8  | 1.1113908799079941 \n",
      " Category 9  | 1.3568019992852518 \n",
      " Category 10 | 1.3076646267673628 \n",
      " Category 11 | 1.381769383273139  \n",
      " Category 12 | 1.2492084734569224 \n",
      " Category 13 | 1.4065419871943692 \n",
      " Category 14 | 1.5766861808190509 \n",
      " Category 15 | 1.7159606559930904 \n",
      " Category 16 | 1.107004546679067  \n",
      " Category 17 | 0.9735360281623526 \n",
      " Category 18 | 0.9479111397083676 \n",
      " Category 19 | 1.2039715446781853 \n",
      " Category 20 | 1.1938910859993366 \n",
      " Category 21 | 0.929853262239982  \n",
      " Category 22 | 1.5987342453526447 \n",
      " Category 23 | 1.3168888685994358 \n",
      " Category 24 | 1.1717564198657122 \n",
      " _c25        | 1.0889444430272832 \n",
      "-RECORD 3-------------------------\n",
      " summary     | min                \n",
      " User        | User 1             \n",
      " Category 1  | 0.0                \n",
      " Category 2  | 0.0                \n",
      " Category 3  | 0.0                \n",
      " Category 4  | 0.83               \n",
      " Category 5  | 1.12               \n",
      " Category 6  | 1.11               \n",
      " Category 7  | 1.12               \n",
      " Category 8  | 0.86               \n",
      " Category 9  | 0.84               \n",
      " Category 10 | 0.81               \n",
      " Category 11 | 0.78               \n",
      " Category 12 | 0.78               \n",
      " Category 13 | 0.77               \n",
      " Category 14 | 0.76               \n",
      " Category 15 | 0.0                \n",
      " Category 16 | 0.0                \n",
      " Category 17 | 0.0                \n",
      " Category 18 | 0.0                \n",
      " Category 19 | 0.0                \n",
      " Category 20 | 0.0                \n",
      " Category 21 | 0.0                \n",
      " Category 22 | 0.0                \n",
      " Category 23 | 0.0                \n",
      " Category 24 | 0.0                \n",
      " _c25        | 1.04               \n",
      "-RECORD 4-------------------------\n",
      " summary     | max                \n",
      " User        | User 999           \n",
      " Category 1  | 5.0                \n",
      " Category 2  | 5.0                \n",
      " Category 3  | 5.0                \n",
      " Category 4  | 5.0                \n",
      " Category 5  | 5.0                \n",
      " Category 6  | 5.0                \n",
      " Category 7  | 5.0                \n",
      " Category 8  | 5.0                \n",
      " Category 9  | 5.0                \n",
      " Category 10 | 5.0                \n",
      " Category 11 | 5                  \n",
      " Category 12 | 5.0                \n",
      " Category 13 | 5.0                \n",
      " Category 14 | 5.0                \n",
      " Category 15 | 5.0                \n",
      " Category 16 | 5.0                \n",
      " Category 17 | 5.0                \n",
      " Category 18 | 5.0                \n",
      " Category 19 | 5.0                \n",
      " Category 20 | 5.0                \n",
      " Category 21 | 5.0                \n",
      " Category 22 | 5.0                \n",
      " Category 23 | 5.0                \n",
      " Category 24 | 5.0                \n",
      " _c25        | 2.58               \n",
      "\n"
     ]
    }
   ],
   "source": [
    "data.describe().show(vertical=True)"
   ]
  },
  {
   "cell_type": "markdown",
   "id": "3f7b39e7",
   "metadata": {},
   "source": [
    "### Step 2:  Cleaning and transforming the data"
   ]
  },
  {
   "cell_type": "code",
   "execution_count": 8,
   "id": "30fba528",
   "metadata": {},
   "outputs": [],
   "source": [
    "from pyspark.sql.functions import isnan, count, when, col\n",
    "\n",
    "null_counts = data.select([count(when(isnan(c) | col(c).isNull(), c)).alias(c) for c in data.columns])\n",
    "zero_counts = data.select([count(when(col(c) == 0, c)).alias(c) for c in data.columns])"
   ]
  },
  {
   "cell_type": "code",
   "execution_count": 9,
   "id": "16c8a19c",
   "metadata": {},
   "outputs": [
    {
     "name": "stdout",
     "output_type": "stream",
     "text": [
      "-RECORD 0-----------\n",
      " User        | 0    \n",
      " Category 1  | 0    \n",
      " Category 2  | 0    \n",
      " Category 3  | 0    \n",
      " Category 4  | 0    \n",
      " Category 5  | 0    \n",
      " Category 6  | 0    \n",
      " Category 7  | 0    \n",
      " Category 8  | 0    \n",
      " Category 9  | 0    \n",
      " Category 10 | 0    \n",
      " Category 11 | 0    \n",
      " Category 12 | 1    \n",
      " Category 13 | 0    \n",
      " Category 14 | 0    \n",
      " Category 15 | 0    \n",
      " Category 16 | 0    \n",
      " Category 17 | 0    \n",
      " Category 18 | 0    \n",
      " Category 19 | 0    \n",
      " Category 20 | 0    \n",
      " Category 21 | 0    \n",
      " Category 22 | 0    \n",
      " Category 23 | 0    \n",
      " Category 24 | 1    \n",
      " _c25        | 5454 \n",
      "\n",
      "-RECORD 0-----------\n",
      " User        | 0    \n",
      " Category 1  | 195  \n",
      " Category 2  | 90   \n",
      " Category 3  | 4    \n",
      " Category 4  | 0    \n",
      " Category 5  | 0    \n",
      " Category 6  | 0    \n",
      " Category 7  | 0    \n",
      " Category 8  | 0    \n",
      " Category 9  | 0    \n",
      " Category 10 | 0    \n",
      " Category 11 | 452  \n",
      " Category 12 | 0    \n",
      " Category 13 | 0    \n",
      " Category 14 | 0    \n",
      " Category 15 | 4    \n",
      " Category 16 | 112  \n",
      " Category 17 | 479  \n",
      " Category 18 | 1017 \n",
      " Category 19 | 1046 \n",
      " Category 20 | 896  \n",
      " Category 21 | 604  \n",
      " Category 22 | 345  \n",
      " Category 23 | 302  \n",
      " Category 24 | 225  \n",
      " _c25        | 0    \n",
      "\n"
     ]
    }
   ],
   "source": [
    "# Counting the number of records with null value and 0 in our original dataset\n",
    "null_counts.show(vertical=True)\n",
    "zero_counts.show(vertical=True)"
   ]
  },
  {
   "cell_type": "code",
   "execution_count": 13,
   "id": "0ba08b37",
   "metadata": {},
   "outputs": [],
   "source": [
    "new_data = data.select(\n",
    " 'Category 1',\n",
    " 'Category 2',\n",
    " 'Category 3',\n",
    " 'Category 4',\n",
    " 'Category 5',\n",
    " 'Category 6',\n",
    " 'Category 7',\n",
    " 'Category 8',\n",
    " 'Category 9',\n",
    " 'Category 10',\n",
    " 'Category 11',\n",
    " 'Category 12',\n",
    " 'Category 13',\n",
    " 'Category 14',\n",
    " 'Category 15',\n",
    " 'Category 16',\n",
    " 'Category 17',\n",
    "#  'Category 18', These columns are not considered as they have more than 1000 records with value zero.\n",
    "#  'Category 19',\n",
    " 'Category 20',\n",
    " 'Category 21',\n",
    " 'Category 22',\n",
    " 'Category 23',\n",
    " 'Category 24')"
   ]
  },
  {
   "cell_type": "code",
   "execution_count": 14,
   "id": "f720fe39",
   "metadata": {},
   "outputs": [],
   "source": [
    "from pyspark.sql.functions import isnan, count, when, col\n",
    "\n",
    "null_counts = new_data.select([count(when(isnan(c) | col(c).isNull(), c)).alias(c) for c in new_data.columns])\n"
   ]
  },
  {
   "cell_type": "code",
   "execution_count": 15,
   "id": "6be0e46e",
   "metadata": {},
   "outputs": [
    {
     "name": "stdout",
     "output_type": "stream",
     "text": [
      "-RECORD 0----------\n",
      " Category 1  | 0   \n",
      " Category 2  | 0   \n",
      " Category 3  | 0   \n",
      " Category 4  | 0   \n",
      " Category 5  | 0   \n",
      " Category 6  | 0   \n",
      " Category 7  | 0   \n",
      " Category 8  | 0   \n",
      " Category 9  | 0   \n",
      " Category 10 | 0   \n",
      " Category 11 | 0   \n",
      " Category 12 | 1   \n",
      " Category 13 | 0   \n",
      " Category 14 | 0   \n",
      " Category 15 | 0   \n",
      " Category 16 | 0   \n",
      " Category 17 | 0   \n",
      " Category 20 | 0   \n",
      " Category 21 | 0   \n",
      " Category 22 | 0   \n",
      " Category 23 | 0   \n",
      " Category 24 | 1   \n",
      "\n"
     ]
    }
   ],
   "source": [
    "null_counts.show(vertical=True)"
   ]
  },
  {
   "cell_type": "code",
   "execution_count": 16,
   "id": "d1c9adcf",
   "metadata": {},
   "outputs": [],
   "source": [
    "for col in new_data.columns:\n",
    "    new_data = new_data.withColumn(col, new_data[col].cast('double'))\n",
    "    new_data = new_data.withColumn(col, when(isnan(new_data[col]), None).otherwise(new_data[col]))"
   ]
  },
  {
   "cell_type": "code",
   "execution_count": 17,
   "id": "eadd3c09",
   "metadata": {},
   "outputs": [],
   "source": [
    "from pyspark.sql.functions import isnan, count, when, col\n",
    "\n",
    "null_counts = new_data.select([count(when(isnan(c) | col(c).isNull(), c)).alias(c) for c in new_data.columns])"
   ]
  },
  {
   "cell_type": "code",
   "execution_count": 18,
   "id": "d85fe02e",
   "metadata": {},
   "outputs": [
    {
     "name": "stdout",
     "output_type": "stream",
     "text": [
      "-RECORD 0----------\n",
      " Category 1  | 0   \n",
      " Category 2  | 0   \n",
      " Category 3  | 0   \n",
      " Category 4  | 0   \n",
      " Category 5  | 0   \n",
      " Category 6  | 0   \n",
      " Category 7  | 0   \n",
      " Category 8  | 0   \n",
      " Category 9  | 0   \n",
      " Category 10 | 0   \n",
      " Category 11 | 1   \n",
      " Category 12 | 1   \n",
      " Category 13 | 0   \n",
      " Category 14 | 0   \n",
      " Category 15 | 0   \n",
      " Category 16 | 0   \n",
      " Category 17 | 0   \n",
      " Category 20 | 0   \n",
      " Category 21 | 0   \n",
      " Category 22 | 0   \n",
      " Category 23 | 0   \n",
      " Category 24 | 1   \n",
      "\n"
     ]
    }
   ],
   "source": [
    "# Counting the number of null value after converting one record at Category 11 to null value\n",
    "null_counts.show(vertical=True)"
   ]
  },
  {
   "cell_type": "code",
   "execution_count": 21,
   "id": "b4c73d88",
   "metadata": {},
   "outputs": [],
   "source": [
    "# Dropping null value\n",
    "new_data=new_data.na.drop()"
   ]
  },
  {
   "cell_type": "code",
   "execution_count": 22,
   "id": "bbc8e805",
   "metadata": {},
   "outputs": [],
   "source": [
    "from pyspark.sql.functions import isnan, count, when, col\n",
    "\n",
    "null_counts = new_data.select([count(when(isnan(c) | col(c).isNull(), c)).alias(c) for c in new_data.columns])"
   ]
  },
  {
   "cell_type": "code",
   "execution_count": 23,
   "id": "bf2ea4be",
   "metadata": {},
   "outputs": [
    {
     "name": "stdout",
     "output_type": "stream",
     "text": [
      "-RECORD 0----------\n",
      " Category 1  | 0   \n",
      " Category 2  | 0   \n",
      " Category 3  | 0   \n",
      " Category 4  | 0   \n",
      " Category 5  | 0   \n",
      " Category 6  | 0   \n",
      " Category 7  | 0   \n",
      " Category 8  | 0   \n",
      " Category 9  | 0   \n",
      " Category 10 | 0   \n",
      " Category 11 | 0   \n",
      " Category 12 | 0   \n",
      " Category 13 | 0   \n",
      " Category 14 | 0   \n",
      " Category 15 | 0   \n",
      " Category 16 | 0   \n",
      " Category 17 | 0   \n",
      " Category 20 | 0   \n",
      " Category 21 | 0   \n",
      " Category 22 | 0   \n",
      " Category 23 | 0   \n",
      " Category 24 | 0   \n",
      "\n"
     ]
    }
   ],
   "source": [
    "# Final check of null value on our selected features\n",
    "null_counts.show(vertical=True)"
   ]
  },
  {
   "cell_type": "code",
   "execution_count": 24,
   "id": "bc1b8264",
   "metadata": {},
   "outputs": [
    {
     "name": "stdout",
     "output_type": "stream",
     "text": [
      "-RECORD 0-------------------------\n",
      " summary     | count              \n",
      " Category 1  | 5454               \n",
      " Category 2  | 5454               \n",
      " Category 3  | 5454               \n",
      " Category 4  | 5454               \n",
      " Category 5  | 5454               \n",
      " Category 6  | 5454               \n",
      " Category 7  | 5454               \n",
      " Category 8  | 5454               \n",
      " Category 9  | 5454               \n",
      " Category 10 | 5454               \n",
      " Category 11 | 5454               \n",
      " Category 12 | 5454               \n",
      " Category 13 | 5454               \n",
      " Category 14 | 5454               \n",
      " Category 15 | 5454               \n",
      " Category 16 | 5454               \n",
      " Category 17 | 5454               \n",
      " Category 20 | 5454               \n",
      " Category 21 | 5454               \n",
      " Category 22 | 5454               \n",
      " Category 23 | 5454               \n",
      " Category 24 | 5454               \n",
      "-RECORD 1-------------------------\n",
      " summary     | mean               \n",
      " Category 1  | 1.4557462412907916 \n",
      " Category 2  | 2.320047671433809  \n",
      " Category 3  | 2.4890594059405906 \n",
      " Category 4  | 2.7971030436376823 \n",
      " Category 5  | 2.9589035570223787 \n",
      " Category 6  | 2.893423175650895  \n",
      " Category 7  | 3.3514759809314185 \n",
      " Category 8  | 2.541177117711777  \n",
      " Category 9  | 3.12654198753209   \n",
      " Category 10 | 2.8326952695269645 \n",
      " Category 11 | 2.549622295562889  \n",
      " Category 12 | 2.0784011734506724 \n",
      " Category 13 | 2.1258195819581953 \n",
      " Category 14 | 2.1904290429043    \n",
      " Category 15 | 2.206140447378093  \n",
      " Category 16 | 1.1927099376604446 \n",
      " Category 17 | 0.9493491015768348 \n",
      " Category 20 | 0.999625962596263  \n",
      " Category 21 | 0.9652750275027572 \n",
      " Category 22 | 1.7493454345434574 \n",
      " Category 23 | 1.5310506050605044 \n",
      " Category 24 | 1.560570223689043  \n",
      "-RECORD 2-------------------------\n",
      " summary     | stddev             \n",
      " Category 1  | 0.8277317179832046 \n",
      " Category 2  | 1.4215758637780564 \n",
      " Category 3  | 1.2475031710916893 \n",
      " Category 4  | 1.3091876822389341 \n",
      " Category 5  | 1.3387851679372162 \n",
      " Category 6  | 1.2821009020920167 \n",
      " Category 7  | 1.4132914825549237 \n",
      " Category 8  | 1.1113979152587516 \n",
      " Category 9  | 1.3567742284425448 \n",
      " Category 10 | 1.307299372197908  \n",
      " Category 11 | 1.381497685791083  \n",
      " Category 12 | 1.2493146082245317 \n",
      " Category 13 | 1.4066819586732782 \n",
      " Category 14 | 1.5765045120272425 \n",
      " Category 15 | 1.7158481280509874 \n",
      " Category 16 | 1.1071759456239936 \n",
      " Category 17 | 0.9736275437978937 \n",
      " Category 20 | 1.193129364927832  \n",
      " Category 21 | 0.9283255491616359 \n",
      " Category 22 | 1.5978155339993911 \n",
      " Category 23 | 1.316179869173026  \n",
      " Category 24 | 1.1717841405300962 \n",
      "-RECORD 3-------------------------\n",
      " summary     | min                \n",
      " Category 1  | 0.0                \n",
      " Category 2  | 0.0                \n",
      " Category 3  | 0.0                \n",
      " Category 4  | 0.83               \n",
      " Category 5  | 1.12               \n",
      " Category 6  | 1.11               \n",
      " Category 7  | 1.12               \n",
      " Category 8  | 0.86               \n",
      " Category 9  | 0.84               \n",
      " Category 10 | 0.81               \n",
      " Category 11 | 0.78               \n",
      " Category 12 | 0.78               \n",
      " Category 13 | 0.77               \n",
      " Category 14 | 0.76               \n",
      " Category 15 | 0.0                \n",
      " Category 16 | 0.0                \n",
      " Category 17 | 0.0                \n",
      " Category 20 | 0.0                \n",
      " Category 21 | 0.0                \n",
      " Category 22 | 0.0                \n",
      " Category 23 | 0.0                \n",
      " Category 24 | 0.0                \n",
      "-RECORD 4-------------------------\n",
      " summary     | max                \n",
      " Category 1  | 5.0                \n",
      " Category 2  | 5.0                \n",
      " Category 3  | 5.0                \n",
      " Category 4  | 5.0                \n",
      " Category 5  | 5.0                \n",
      " Category 6  | 5.0                \n",
      " Category 7  | 5.0                \n",
      " Category 8  | 5.0                \n",
      " Category 9  | 5.0                \n",
      " Category 10 | 5.0                \n",
      " Category 11 | 5.0                \n",
      " Category 12 | 5.0                \n",
      " Category 13 | 5.0                \n",
      " Category 14 | 5.0                \n",
      " Category 15 | 5.0                \n",
      " Category 16 | 5.0                \n",
      " Category 17 | 5.0                \n",
      " Category 20 | 5.0                \n",
      " Category 21 | 5.0                \n",
      " Category 22 | 5.0                \n",
      " Category 23 | 5.0                \n",
      " Category 24 | 5.0                \n",
      "\n"
     ]
    }
   ],
   "source": [
    "# final descriptive analysis of our selected features\n",
    "new_data.describe().show(vertical=True)"
   ]
  },
  {
   "cell_type": "code",
   "execution_count": 25,
   "id": "42931a66",
   "metadata": {},
   "outputs": [],
   "source": [
    "new_col_name = ['churches', 'resorts', 'beaches', 'parks', 'theatres', 'museums', 'malls', 'zoo', 'restaurants', 'pubs_bars', 'local_services', 'burger_pizza_shops', 'hotels_other_lodgings', 'juice_bars', 'art_galleries', 'dance_clubs', 'bakery', 'beauty_spas', 'cafes', 'view_points', 'monuments', 'gardens']"
   ]
  },
  {
   "cell_type": "code",
   "execution_count": 26,
   "id": "fd06991c",
   "metadata": {},
   "outputs": [],
   "source": [
    "# Renaming the features\n",
    "new_data= new_data.toDF(*new_col_name)"
   ]
  },
  {
   "cell_type": "code",
   "execution_count": 27,
   "id": "cd4f2eda",
   "metadata": {},
   "outputs": [
    {
     "data": {
      "text/plain": [
       "['churches',\n",
       " 'resorts',\n",
       " 'beaches',\n",
       " 'parks',\n",
       " 'theatres',\n",
       " 'museums',\n",
       " 'malls',\n",
       " 'zoo',\n",
       " 'restaurants',\n",
       " 'pubs_bars',\n",
       " 'local_services',\n",
       " 'burger_pizza_shops',\n",
       " 'hotels_other_lodgings',\n",
       " 'juice_bars',\n",
       " 'art_galleries',\n",
       " 'dance_clubs',\n",
       " 'bakery',\n",
       " 'beauty_spas',\n",
       " 'cafes',\n",
       " 'view_points',\n",
       " 'monuments',\n",
       " 'gardens']"
      ]
     },
     "execution_count": 27,
     "metadata": {},
     "output_type": "execute_result"
    }
   ],
   "source": [
    "new_data.columns"
   ]
  },
  {
   "cell_type": "code",
   "execution_count": 29,
   "id": "a79abd86",
   "metadata": {},
   "outputs": [
    {
     "name": "stdout",
     "output_type": "stream",
     "text": [
      "-RECORD 0-----------------------------------\n",
      " summary               | count              \n",
      " churches              | 5454               \n",
      " resorts               | 5454               \n",
      " beaches               | 5454               \n",
      " parks                 | 5454               \n",
      " theatres              | 5454               \n",
      " museums               | 5454               \n",
      " malls                 | 5454               \n",
      " zoo                   | 5454               \n",
      " restaurants           | 5454               \n",
      " pubs_bars             | 5454               \n",
      " local_services        | 5454               \n",
      " burger_pizza_shops    | 5454               \n",
      " hotels_other_lodgings | 5454               \n",
      " juice_bars            | 5454               \n",
      " art_galleries         | 5454               \n",
      " dance_clubs           | 5454               \n",
      " bakery                | 5454               \n",
      " beauty_spas           | 5454               \n",
      " cafes                 | 5454               \n",
      " view_points           | 5454               \n",
      " monuments             | 5454               \n",
      " gardens               | 5454               \n",
      "-RECORD 1-----------------------------------\n",
      " summary               | mean               \n",
      " churches              | 1.4557462412907916 \n",
      " resorts               | 2.320047671433809  \n",
      " beaches               | 2.4890594059405906 \n",
      " parks                 | 2.7971030436376823 \n",
      " theatres              | 2.9589035570223787 \n",
      " museums               | 2.893423175650895  \n",
      " malls                 | 3.3514759809314185 \n",
      " zoo                   | 2.541177117711777  \n",
      " restaurants           | 3.12654198753209   \n",
      " pubs_bars             | 2.8326952695269645 \n",
      " local_services        | 2.549622295562889  \n",
      " burger_pizza_shops    | 2.0784011734506724 \n",
      " hotels_other_lodgings | 2.1258195819581953 \n",
      " juice_bars            | 2.1904290429043    \n",
      " art_galleries         | 2.206140447378093  \n",
      " dance_clubs           | 1.1927099376604446 \n",
      " bakery                | 0.9493491015768348 \n",
      " beauty_spas           | 0.999625962596263  \n",
      " cafes                 | 0.9652750275027572 \n",
      " view_points           | 1.7493454345434574 \n",
      " monuments             | 1.5310506050605044 \n",
      " gardens               | 1.560570223689043  \n",
      "-RECORD 2-----------------------------------\n",
      " summary               | stddev             \n",
      " churches              | 0.8277317179832046 \n",
      " resorts               | 1.4215758637780564 \n",
      " beaches               | 1.2475031710916893 \n",
      " parks                 | 1.3091876822389341 \n",
      " theatres              | 1.3387851679372162 \n",
      " museums               | 1.2821009020920167 \n",
      " malls                 | 1.4132914825549237 \n",
      " zoo                   | 1.1113979152587516 \n",
      " restaurants           | 1.3567742284425448 \n",
      " pubs_bars             | 1.307299372197908  \n",
      " local_services        | 1.381497685791083  \n",
      " burger_pizza_shops    | 1.2493146082245317 \n",
      " hotels_other_lodgings | 1.4066819586732782 \n",
      " juice_bars            | 1.5765045120272425 \n",
      " art_galleries         | 1.7158481280509874 \n",
      " dance_clubs           | 1.1071759456239936 \n",
      " bakery                | 0.9736275437978937 \n",
      " beauty_spas           | 1.193129364927832  \n",
      " cafes                 | 0.9283255491616359 \n",
      " view_points           | 1.5978155339993911 \n",
      " monuments             | 1.316179869173026  \n",
      " gardens               | 1.1717841405300962 \n",
      "-RECORD 3-----------------------------------\n",
      " summary               | min                \n",
      " churches              | 0.0                \n",
      " resorts               | 0.0                \n",
      " beaches               | 0.0                \n",
      " parks                 | 0.83               \n",
      " theatres              | 1.12               \n",
      " museums               | 1.11               \n",
      " malls                 | 1.12               \n",
      " zoo                   | 0.86               \n",
      " restaurants           | 0.84               \n",
      " pubs_bars             | 0.81               \n",
      " local_services        | 0.78               \n",
      " burger_pizza_shops    | 0.78               \n",
      " hotels_other_lodgings | 0.77               \n",
      " juice_bars            | 0.76               \n",
      " art_galleries         | 0.0                \n",
      " dance_clubs           | 0.0                \n",
      " bakery                | 0.0                \n",
      " beauty_spas           | 0.0                \n",
      " cafes                 | 0.0                \n",
      " view_points           | 0.0                \n",
      " monuments             | 0.0                \n",
      " gardens               | 0.0                \n",
      "-RECORD 4-----------------------------------\n",
      " summary               | max                \n",
      " churches              | 5.0                \n",
      " resorts               | 5.0                \n",
      " beaches               | 5.0                \n",
      " parks                 | 5.0                \n",
      " theatres              | 5.0                \n",
      " museums               | 5.0                \n",
      " malls                 | 5.0                \n",
      " zoo                   | 5.0                \n",
      " restaurants           | 5.0                \n",
      " pubs_bars             | 5.0                \n",
      " local_services        | 5.0                \n",
      " burger_pizza_shops    | 5.0                \n",
      " hotels_other_lodgings | 5.0                \n",
      " juice_bars            | 5.0                \n",
      " art_galleries         | 5.0                \n",
      " dance_clubs           | 5.0                \n",
      " bakery                | 5.0                \n",
      " beauty_spas           | 5.0                \n",
      " cafes                 | 5.0                \n",
      " view_points           | 5.0                \n",
      " monuments             | 5.0                \n",
      " gardens               | 5.0                \n",
      "\n"
     ]
    }
   ],
   "source": [
    "new_data.describe().show(vertical=True)"
   ]
  },
  {
   "cell_type": "markdown",
   "id": "72f62308",
   "metadata": {},
   "source": [
    "#### Assembling the features column"
   ]
  },
  {
   "cell_type": "code",
   "execution_count": 30,
   "id": "fbaa6a51",
   "metadata": {},
   "outputs": [],
   "source": [
    "from pyspark.ml.feature import VectorAssembler, StandardScaler"
   ]
  },
  {
   "cell_type": "code",
   "execution_count": 31,
   "id": "9f06bee2",
   "metadata": {},
   "outputs": [],
   "source": [
    "assembler = VectorAssembler(inputCols=['churches',\n",
    " 'resorts',\n",
    " 'beaches',\n",
    " 'parks',\n",
    " 'theatres',\n",
    " 'museums',\n",
    " 'malls',\n",
    " 'zoo',\n",
    " 'restaurants',\n",
    " 'pubs_bars',\n",
    " 'local_services',\n",
    " 'burger_pizza_shops',\n",
    " 'hotels_other_lodgings',\n",
    " 'juice_bars',\n",
    " 'art_galleries',\n",
    " 'dance_clubs',\n",
    " 'bakery',\n",
    " 'beauty_spas',\n",
    " 'cafes',\n",
    " 'view_points',\n",
    " 'monuments',\n",
    " 'gardens'], outputCol='features')\n"
   ]
  },
  {
   "cell_type": "markdown",
   "id": "39a0616b",
   "metadata": {},
   "source": [
    "#### Performing the feature scaling using StandardScaler"
   ]
  },
  {
   "cell_type": "code",
   "execution_count": 36,
   "id": "a6cfa83f",
   "metadata": {},
   "outputs": [],
   "source": [
    "scaler = StandardScaler(inputCol='features', outputCol='scaled_features')"
   ]
  },
  {
   "cell_type": "markdown",
   "id": "7fde0aa3",
   "metadata": {},
   "source": [
    "### Step 4: Transforming the data using pipeline"
   ]
  },
  {
   "cell_type": "code",
   "execution_count": 37,
   "id": "e97d6701",
   "metadata": {},
   "outputs": [],
   "source": [
    "from pyspark.ml import Pipeline"
   ]
  },
  {
   "cell_type": "code",
   "execution_count": 38,
   "id": "8ec94cb2",
   "metadata": {},
   "outputs": [],
   "source": [
    "pipeline = Pipeline(stages=[assembler, scaler])"
   ]
  },
  {
   "cell_type": "code",
   "execution_count": 39,
   "id": "d27fd104",
   "metadata": {},
   "outputs": [],
   "source": [
    "output = pipeline.fit(new_data).transform(new_data)"
   ]
  },
  {
   "cell_type": "code",
   "execution_count": 40,
   "id": "a4b509a5",
   "metadata": {},
   "outputs": [
    {
     "data": {
      "text/plain": [
       "Row(churches=0.0, resorts=0.0, beaches=3.63, parks=3.65, theatres=5.0, museums=2.92, malls=5.0, zoo=2.35, restaurants=2.33, pubs_bars=2.64, local_services=1.7, burger_pizza_shops=1.69, hotels_other_lodgings=1.7, juice_bars=1.72, art_galleries=1.74, dance_clubs=0.59, bakery=0.5, beauty_spas=0.0, cafes=0.0, view_points=0.0, monuments=0.0, gardens=0.0, features=DenseVector([0.0, 0.0, 3.63, 3.65, 5.0, 2.92, 5.0, 2.35, 2.33, 2.64, 1.7, 1.69, 1.7, 1.72, 1.74, 0.59, 0.5, 0.0, 0.0, 0.0, 0.0, 0.0]), scaled_features=DenseVector([0.0, 0.0, 2.9098, 2.788, 3.7347, 2.2775, 3.5378, 2.1145, 1.7173, 2.0194, 1.2305, 1.3527, 1.2085, 1.091, 1.0141, 0.5329, 0.5135, 0.0, 0.0, 0.0, 0.0, 0.0]))"
      ]
     },
     "execution_count": 40,
     "metadata": {},
     "output_type": "execute_result"
    }
   ],
   "source": [
    "output.head()"
   ]
  },
  {
   "cell_type": "code",
   "execution_count": 41,
   "id": "8fa11a43",
   "metadata": {},
   "outputs": [],
   "source": [
    "# Only scaled_features is selected from the dataset\n",
    "final_data = output.select('scaled_features')"
   ]
  },
  {
   "cell_type": "markdown",
   "id": "a60357f3",
   "metadata": {},
   "source": [
    "### Step 4: Choosing k value using elbow method and silhouette method"
   ]
  },
  {
   "cell_type": "code",
   "execution_count": 42,
   "id": "8fc4ee85",
   "metadata": {},
   "outputs": [],
   "source": [
    "from pyspark.ml.clustering import KMeans\n",
    "from pyspark.ml.evaluation import ClusteringEvaluator\n",
    "evaluator = ClusteringEvaluator()"
   ]
  },
  {
   "cell_type": "code",
   "execution_count": 43,
   "id": "319de154",
   "metadata": {},
   "outputs": [],
   "source": [
    "range_k = [2,3,4,5,6,7,8,9,10]"
   ]
  },
  {
   "cell_type": "code",
   "execution_count": 37,
   "id": "d628fb2c",
   "metadata": {},
   "outputs": [],
   "source": [
    "wssse_score = []\n",
    "silhouette_score = []\n",
    "for k in range_k:\n",
    "    kmeans = KMeans(featuresCol='scaled_features', k =k)\n",
    "    model = kmeans.fit(output)\n",
    "    preds = model.transform(output)\n",
    "    wssse = model.summary.trainingCost\n",
    "    wssse_score.append(wssse)\n",
    "    silhouette = evaluator.evaluate(preds)\n",
    "    silhouette_score.append(silhouette)"
   ]
  },
  {
   "cell_type": "code",
   "execution_count": 38,
   "id": "ffef5d9c",
   "metadata": {},
   "outputs": [
    {
     "name": "stdout",
     "output_type": "stream",
     "text": [
      "within-set sum of squared errors: \n",
      "2 102135.3969245095\n",
      "3 91520.79159853773\n",
      "4 84179.93365504907\n",
      "5 80010.14878442574\n",
      "6 75604.10609425216\n",
      "7 72092.65935795629\n",
      "8 71738.27973117777\n",
      "9 68343.68758293123\n",
      "10 65238.79146528483\n"
     ]
    }
   ],
   "source": [
    "print(\"within-set sum of squared errors: \")\n",
    "i=0\n",
    "while i<9:\n",
    "    print(range_k[i], wssse_score[i])\n",
    "    i=i+1"
   ]
  },
  {
   "cell_type": "code",
   "execution_count": 39,
   "id": "8f887293",
   "metadata": {},
   "outputs": [
    {
     "name": "stdout",
     "output_type": "stream",
     "text": [
      "silhouette coefficients: \n",
      "2 0.25155202123083553\n",
      "3 0.24268662566713908\n",
      "4 0.24529027684550714\n",
      "5 0.23709334538819\n",
      "6 0.23312460592501122\n",
      "7 0.2447453559401088\n",
      "8 0.23049481095107469\n",
      "9 0.24402668660772456\n",
      "10 0.25226935851933974\n"
     ]
    }
   ],
   "source": [
    "print(\"silhouette coefficients: \")\n",
    "i=0\n",
    "while i<9:\n",
    "    print(range_k[i], silhouette_score[i])\n",
    "    i=i+1"
   ]
  },
  {
   "cell_type": "markdown",
   "id": "132591c8",
   "metadata": {},
   "source": [
    "### Step 5: Creating an elbow plot and a silhouette plot to identify the best k value"
   ]
  },
  {
   "cell_type": "code",
   "execution_count": 40,
   "id": "8ebd019e",
   "metadata": {},
   "outputs": [
    {
     "data": {
      "image/png": "[encoded data removed]",
      "text/plain": [
       "<Figure size 432x288 with 1 Axes>"
      ]
     },
     "metadata": {
      "needs_background": "light"
     },
     "output_type": "display_data"
    }
   ],
   "source": [
    "import matplotlib.pyplot as plt\n",
    "import numpy as np\n",
    "plt.plot(range_k,wssse_score)\n",
    "plt.ylabel('Within-Set Sum of Squared Error')\n",
    "plt.xlabel('Number of Clusters - k')\n",
    "plt.title('Elbow Curve')\n",
    "plt.show()"
   ]
  },
  {
   "cell_type": "code",
   "execution_count": 41,
   "id": "f5c75205",
   "metadata": {},
   "outputs": [
    {
     "data": {
      "image/png": "[encoded data removed]",
      "text/plain": [
       "<Figure size 432x288 with 1 Axes>"
      ]
     },
     "metadata": {
      "needs_background": "light"
     },
     "output_type": "display_data"
    }
   ],
   "source": [
    "plt.plot(range_k,silhouette_score)\n",
    "plt.ylabel('Average Silhouette Score')\n",
    "plt.xlabel('Number of Clusters - k')\n",
    "plt.title('Silhouette Curve')\n",
    "plt.show()"
   ]
  },
  {
   "cell_type": "markdown",
   "id": "2e3adaae",
   "metadata": {},
   "source": [
    "### Step 6: Developing and Evaluating the model"
   ]
  },
  {
   "cell_type": "code",
   "execution_count": 42,
   "id": "d5d95f77",
   "metadata": {},
   "outputs": [],
   "source": [
    "kmeans = KMeans(featuresCol='scaled_features', k=4)"
   ]
  },
  {
   "cell_type": "code",
   "execution_count": 43,
   "id": "cb79d84a",
   "metadata": {},
   "outputs": [],
   "source": [
    "model = kmeans.fit(final_data)"
   ]
  },
  {
   "cell_type": "code",
   "execution_count": 44,
   "id": "9d9068ee",
   "metadata": {},
   "outputs": [],
   "source": [
    "preds = model.transform(final_data)"
   ]
  },
  {
   "cell_type": "markdown",
   "id": "81a2fb24",
   "metadata": {},
   "source": [
    "#### Counting the number of samples in each cluster"
   ]
  },
  {
   "cell_type": "code",
   "execution_count": 45,
   "id": "0ffeba4f",
   "metadata": {},
   "outputs": [
    {
     "name": "stdout",
     "output_type": "stream",
     "text": [
      "+----------+-----+\n",
      "|prediction|count|\n",
      "+----------+-----+\n",
      "|         1|  765|\n",
      "|         3| 1800|\n",
      "|         2| 1011|\n",
      "|         0| 1878|\n",
      "+----------+-----+\n",
      "\n"
     ]
    }
   ],
   "source": [
    "preds.groupBy('prediction').count().show()"
   ]
  },
  {
   "cell_type": "markdown",
   "id": "b005f158",
   "metadata": {},
   "source": [
    "#### Calculating wssse and silhouette score of the clusters"
   ]
  },
  {
   "cell_type": "code",
   "execution_count": 46,
   "id": "529bc425",
   "metadata": {},
   "outputs": [],
   "source": [
    "wssse = model.summary.trainingCost"
   ]
  },
  {
   "cell_type": "code",
   "execution_count": 47,
   "id": "65bff2b6",
   "metadata": {},
   "outputs": [
    {
     "name": "stdout",
     "output_type": "stream",
     "text": [
      "within-set sum of squares:  84179.93365504907\n"
     ]
    }
   ],
   "source": [
    "print('within-set sum of squares: ', wssse)"
   ]
  },
  {
   "cell_type": "code",
   "execution_count": 48,
   "id": "75682d92",
   "metadata": {},
   "outputs": [],
   "source": [
    "preds= preds.withColumnRenamed('scaled_features', 'features')"
   ]
  },
  {
   "cell_type": "code",
   "execution_count": 49,
   "id": "1b54579b",
   "metadata": {},
   "outputs": [],
   "source": [
    "silhouette = evaluator.evaluate(preds)"
   ]
  },
  {
   "cell_type": "code",
   "execution_count": 50,
   "id": "6f57090f",
   "metadata": {
    "scrolled": true
   },
   "outputs": [
    {
     "name": "stdout",
     "output_type": "stream",
     "text": [
      "silhouette within euclidian distance:  0.24995000649737442\n"
     ]
    }
   ],
   "source": [
    "print('silhouette within euclidian distance: ', silhouette)"
   ]
  },
  {
   "cell_type": "markdown",
   "id": "67163cd3",
   "metadata": {},
   "source": [
    "#### Calculating the centers of the cluster"
   ]
  },
  {
   "cell_type": "code",
   "execution_count": 51,
   "id": "9b229bf4",
   "metadata": {},
   "outputs": [],
   "source": [
    "centers = model.clusterCenters()"
   ]
  },
  {
   "cell_type": "code",
   "execution_count": 52,
   "id": "e3ce18ef",
   "metadata": {},
   "outputs": [
    {
     "name": "stdout",
     "output_type": "stream",
     "text": [
      "Centers of the clusters: \n",
      "[1.76228045 1.84229094 2.58373386 3.01575113 3.24205912 2.87427182\n",
      " 2.3937768  2.10986434 1.91417892 1.91620066 1.70612865 1.56026766\n",
      " 1.42805407 1.01897355 0.82774044 0.96823586 0.75237116 0.52156094\n",
      " 0.82267626 1.30657286 1.38813404 1.47808975]\n",
      "[1.08154459 0.83427621 1.38865614 1.31489009 1.32884104 1.4163742\n",
      " 2.1789121  1.82649324 2.08305497 2.13947024 2.21632158 2.93586337\n",
      " 2.80510843 2.80822315 2.28383788 1.50288741 1.62293141 0.75369438\n",
      " 0.78605228 0.53078186 0.60712444 0.76216942]\n",
      "[2.88556872 1.94864617 2.12025491 1.9215183  1.64003741 1.51929016\n",
      " 1.36051142 1.37692055 1.45715669 1.28956361 1.06822241 1.05516214\n",
      " 0.9954397  1.06558597 1.16850969 1.34820514 1.45263192 2.01825687\n",
      " 2.1474803  1.87785437 1.89559623 2.18487998]\n",
      "[1.40988382 1.5738559  1.56880474 1.68913478 1.82826611 2.3839344\n",
      " 2.99763593 3.17707992 3.28145155 2.9326786  2.27003235 1.5725378\n",
      " 1.33781326 1.35481869 1.40524934 0.85791845 0.66382902 0.54052069\n",
      " 0.75203503 0.67385056 0.75364995 0.94208667]\n"
     ]
    }
   ],
   "source": [
    "print('Centers of the clusters: ')\n",
    "for center in centers:\n",
    "    print(center)"
   ]
  },
  {
   "cell_type": "markdown",
   "id": "550440e1",
   "metadata": {},
   "source": [
    "### Step 7: Plotting the clusters"
   ]
  },
  {
   "cell_type": "code",
   "execution_count": 53,
   "id": "3ec2b8b2",
   "metadata": {},
   "outputs": [
    {
     "data": {
      "image/png": "[encoded data removed]",
      "text/plain": [
       "<Figure size 432x288 with 1 Axes>"
      ]
     },
     "metadata": {
      "needs_background": "light"
     },
     "output_type": "display_data"
    }
   ],
   "source": [
    "import matplotlib.pyplot as plt\n",
    "\n",
    "# create a scatter plot of the data points\n",
    "x = output.rdd.map(lambda row: row['scaled_features'][0]).collect()\n",
    "y = output.rdd.map(lambda row: row['scaled_features'][1]).collect()\n",
    "plt.scatter(x, y)\n",
    "\n",
    "# plot the centroids of the clusters\n",
    "centroids = model.clusterCenters()\n",
    "centroid_x = [c[0] for c in centroids]\n",
    "centroid_y = [c[1] for c in centroids]\n",
    "plt.scatter(centroid_x, centroid_y, marker='x', s=100, linewidths=3, color='r')\n",
    "\n",
    "plt.show()"
   ]
  }
 ],
 "metadata": {
  "kernelspec": {
   "display_name": "PySpark",
   "language": "python",
   "name": "pyspark"
  },
  "language_info": {
   "codemirror_mode": {
    "name": "ipython",
    "version": 3
   },
   "file_extension": ".py",
   "mimetype": "text/x-python",
   "name": "python",
   "nbconvert_exporter": "python",
   "pygments_lexer": "ipython3",
   "version": "3.9.7"
  }
 },
 "nbformat": 4,
 "nbformat_minor": 5
}
